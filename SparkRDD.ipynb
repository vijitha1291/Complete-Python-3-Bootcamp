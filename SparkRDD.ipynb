{
  "nbformat": 4,
  "nbformat_minor": 0,
  "metadata": {
    "colab": {
      "name": "Untitled1.ipynb",
      "provenance": [],
      "authorship_tag": "ABX9TyPylIgCKAtR8wV2QooAttFv",
      "include_colab_link": true
    },
    "kernelspec": {
      "name": "python3",
      "display_name": "Python 3"
    },
    "language_info": {
      "name": "python"
    }
  },
  "cells": [
    {
      "cell_type": "markdown",
      "metadata": {
        "id": "view-in-github",
        "colab_type": "text"
      },
      "source": [
        "<a href=\"https://colab.research.google.com/github/vijitha1291/Complete-Python-3-Bootcamp/blob/master/SparkRDD.ipynb\" target=\"_parent\"><img src=\"https://colab.research.google.com/assets/colab-badge.svg\" alt=\"Open In Colab\"/></a>"
      ]
    },
    {
      "cell_type": "code",
      "execution_count": 3,
      "metadata": {
        "id": "_ePrAtIFzMdb"
      },
      "outputs": [],
      "source": [
        "!apt-get install openjdk-8-jdk-headless -qq > /dev/null"
      ]
    },
    {
      "cell_type": "code",
      "source": [
        "!wget -q https://archive.apache.org/dist/spark/spark-3.1.2/spark-3.1.2-bin-hadoop2.7.tgz\n",
        "!tar xf spark-3.1.2-bin-hadoop2.7.tgz"
      ],
      "metadata": {
        "id": "838f5EWJz_tr"
      },
      "execution_count": 4,
      "outputs": []
    },
    {
      "metadata": {
        "id": "v1b8k_OVf2QF"
      },
      "cell_type": "code",
      "source": [
        "import os\n",
        "os.environ[\"JAVA_HOME\"] = \"/usr/lib/jvm/java-8-openjdk-amd64\"\n",
        "os.environ[\"SPARK_HOME\"] = \"/content/spark-3.1.2-bin-hadoop2.7\""
      ],
      "execution_count": 5,
      "outputs": []
    },
    {
      "cell_type": "code",
      "source": [
        "%pip install findspark\n",
        "%pip install pyspark"
      ],
      "metadata": {
        "colab": {
          "base_uri": "https://localhost:8080/"
        },
        "id": "IDZAENfUZQ61",
        "outputId": "792c0f59-11d0-4846-ebd8-cd122d1687a5"
      },
      "execution_count": 6,
      "outputs": [
        {
          "output_type": "stream",
          "name": "stdout",
          "text": [
            "Requirement already satisfied: findspark in /usr/local/lib/python3.7/dist-packages (2.0.1)\n",
            "Requirement already satisfied: pyspark in /usr/local/lib/python3.7/dist-packages (3.2.1)\n",
            "Requirement already satisfied: py4j==0.10.9.3 in /usr/local/lib/python3.7/dist-packages (from pyspark) (0.10.9.3)\n"
          ]
        }
      ]
    },
    {
      "cell_type": "code",
      "source": [
        "import findspark\n",
        "findspark.init()\n",
        "from pyspark.sql import SparkSession\n",
        "spark = SparkSession.builder.master(\"local[*]\").getOrCreate()"
      ],
      "metadata": {
        "id": "zh6SqXdi6irV"
      },
      "execution_count": 7,
      "outputs": []
    },
    {
      "cell_type": "code",
      "source": [
        "from pyspark import SparkContext\n",
        "logFile = \"/content/spark-3.1.2-bin-hadoop2.7/README.md\"\n",
        "sc = spark.sparkContext"
      ],
      "metadata": {
        "id": "cTCKhZJ2YsUH"
      },
      "execution_count": 12,
      "outputs": []
    },
    {
      "cell_type": "code",
      "source": [
        "words = sc.parallelize (\n",
        "   [\"scala\", \n",
        "   \"java\", \n",
        "   \"hadoop\", \n",
        "   \"spark\", \n",
        "   \"akka\",\n",
        "   \"spark vs hadoop\", \n",
        "   \"pyspark\",\n",
        "   \"pyspark and spark\"]\n",
        ")"
      ],
      "metadata": {
        "id": "D9lzpdZCdMZ0"
      },
      "execution_count": 13,
      "outputs": []
    },
    {
      "cell_type": "code",
      "source": [
        "counts = words.count()\n",
        "print (\"Number of elements in RDD -> \",counts)"
      ],
      "metadata": {
        "id": "6P7Kc87F07qH",
        "colab": {
          "base_uri": "https://localhost:8080/"
        },
        "outputId": "f1022cd5-014f-41ca-819a-eae89cbc1fce"
      },
      "execution_count": 23,
      "outputs": [
        {
          "output_type": "stream",
          "name": "stdout",
          "text": [
            "Number of elements in RDD ->  8\n"
          ]
        }
      ]
    },
    {
      "cell_type": "code",
      "source": [
        "collect = words.collect()\n",
        "print(\"elements in RDD collect\", collect)"
      ],
      "metadata": {
        "id": "usvUZLANdaqw",
        "colab": {
          "base_uri": "https://localhost:8080/"
        },
        "outputId": "7882b200-a8a3-4f40-cbb9-9f76ea19bf5b"
      },
      "execution_count": 17,
      "outputs": [
        {
          "output_type": "stream",
          "name": "stdout",
          "text": [
            "elements in RDD collect ['scala', 'java', 'hadoop', 'spark', 'akka', 'spark vs hadoop', 'pyspark', 'pyspark and spark']\n"
          ]
        }
      ]
    },
    {
      "cell_type": "markdown",
      "source": [
        "Foreach is not displaying any data need to check"
      ],
      "metadata": {
        "id": "NT9VU1rWGK9F"
      }
    },
    {
      "cell_type": "code",
      "source": [
        "def f(x): print(x)\n",
        "fore = words.foreach(lambda x: print(x))"
      ],
      "metadata": {
        "id": "1DkbEqgy1qD9"
      },
      "execution_count": 27,
      "outputs": []
    },
    {
      "cell_type": "code",
      "source": [
        "filter_ele = words.filter(lambda s: \"spark\" in s)\n",
        "print(filter_ele.collect())"
      ],
      "metadata": {
        "colab": {
          "base_uri": "https://localhost:8080/"
        },
        "id": "UQybZnoWAsWt",
        "outputId": "43222d60-c308-4224-951c-df6bc3b2ab9a"
      },
      "execution_count": 28,
      "outputs": [
        {
          "output_type": "stream",
          "name": "stdout",
          "text": [
            "['spark', 'spark vs hadoop', 'pyspark', 'pyspark and spark']\n"
          ]
        }
      ]
    },
    {
      "cell_type": "code",
      "source": [
        "mapping = words.map(lambda x: (x, 1))\n",
        "print(mapping.collect())"
      ],
      "metadata": {
        "colab": {
          "base_uri": "https://localhost:8080/"
        },
        "id": "Pfdn7ArLD882",
        "outputId": "1abe6f2c-ec4e-4f93-ca83-7cca417a7dc2"
      },
      "execution_count": 29,
      "outputs": [
        {
          "output_type": "stream",
          "name": "stdout",
          "text": [
            "[('scala', 1), ('java', 1), ('hadoop', 1), ('spark', 1), ('akka', 1), ('spark vs hadoop', 1), ('pyspark', 1), ('pyspark and spark', 1)]\n"
          ]
        }
      ]
    },
    {
      "cell_type": "code",
      "source": [
        "from operator import add\n",
        "sc2 = spark.sparkContext\n",
        "nums1 = sc2.parallelize([1,2,3,4,5,6,7])\n",
        "adding = nums1.reduce(add)\n",
        "print(adding)"
      ],
      "metadata": {
        "colab": {
          "base_uri": "https://localhost:8080/"
        },
        "id": "ZKT_K-r_EQ9o",
        "outputId": "42253a2e-7eb7-4c7c-882e-0ab931762fa5"
      },
      "execution_count": 33,
      "outputs": [
        {
          "output_type": "stream",
          "name": "stdout",
          "text": [
            "28\n"
          ]
        }
      ]
    },
    {
      "cell_type": "code",
      "source": [
        "nums = sc.parallelize([(\"spark\", 1), (\"hadoop\", 4)])\n",
        "alphs = sc.parallelize([(\"spark\", 5), (\"hadoop\", 14)])\n",
        "joined = nums.join(alphs)\n",
        "print(joined.collect())"
      ],
      "metadata": {
        "colab": {
          "base_uri": "https://localhost:8080/"
        },
        "id": "Z1BZo1UnFKul",
        "outputId": "0ba7afb9-a8bc-475b-b2a0-da8825750188"
      },
      "execution_count": 36,
      "outputs": [
        {
          "output_type": "stream",
          "name": "stdout",
          "text": [
            "[('hadoop', (4, 14)), ('spark', (1, 5))]\n"
          ]
        }
      ]
    }
  ]
}